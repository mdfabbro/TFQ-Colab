{
  "nbformat": 4,
  "nbformat_minor": 0,
  "metadata": {
    "colab": {
      "name": "TFQ-Ready to use.ipynb",
      "provenance": [],
      "collapsed_sections": [],
      "toc_visible": true
    },
    "kernelspec": {
      "name": "python3",
      "display_name": "Python 3"
    },
    "language_info": {
      "name": "python"
    }
  },
  "cells": [
    {
      "cell_type": "markdown",
      "metadata": {
        "id": "Ok9j5XHSX_BQ"
      },
      "source": [
        "# **Ready to use**\n",
        "### Resume\n",
        "Just install **Tensorflow Quantum** in the **Colab** environment.\n",
        "\n"
      ]
    },
    {
      "cell_type": "markdown",
      "source": [
        "---\n",
        "\n",
        "## Installation\n",
        "We will install TF 2.5.1 (version required by TFQ) and TF-Quantum. \n",
        "> Check https://www.tensorflow.org/quantum/install for updates.\n"
      ],
      "metadata": {
        "id": "oULBIlfq6rpw"
      }
    },
    {
      "cell_type": "code",
      "metadata": {
        "id": "SyTVAM5rFvo9"
      },
      "source": [
        "%%capture\n",
        "!pip install -q tensorflow==2.5.1"
      ],
      "execution_count": null,
      "outputs": []
    },
    {
      "cell_type": "code",
      "metadata": {
        "id": "VUEavz1kGEmn"
      },
      "source": [
        "%%capture\n",
        "!pip install -q -U tensorflow-quantum"
      ],
      "execution_count": null,
      "outputs": []
    },
    {
      "cell_type": "code",
      "metadata": {
        "id": "e2RjKBo3HEMi"
      },
      "source": [
        "%%capture\n",
        "!pip install -q -U tfq-nightly"
      ],
      "execution_count": null,
      "outputs": []
    },
    {
      "cell_type": "code",
      "metadata": {
        "id": "DOBVqMVwG4nL"
      },
      "source": [
        "!pip show tensorflow\n",
        "!pip show tensorflow-quantum\n",
        "!pip show tfq-nightly"
      ],
      "execution_count": null,
      "outputs": []
    },
    {
      "cell_type": "code",
      "metadata": {
        "colab": {
          "base_uri": "https://localhost:8080/"
        },
        "id": "06pr-PgIHc5o",
        "outputId": "e6b122ec-bd50-4232-bf79-05a090f9836e"
      },
      "source": [
        "import importlib, pkg_resources\n",
        "importlib.reload(pkg_resources)"
      ],
      "execution_count": null,
      "outputs": [
        {
          "output_type": "execute_result",
          "data": {
            "text/plain": [
              "<module 'pkg_resources' from '/usr/local/lib/python3.7/dist-packages/pkg_resources/__init__.py'>"
            ]
          },
          "metadata": {},
          "execution_count": 4
        }
      ]
    },
    {
      "cell_type": "code",
      "metadata": {
        "id": "B6a11puRHj-z"
      },
      "source": [
        "import tensorflow as tf\n",
        "import tensorflow_quantum as tfq\n",
        "import cirq\n",
        "import sympy\n",
        "import numpy as np\n",
        "\n",
        "%matplotlib inline\n",
        "import matplotlib.pyplot as plt\n",
        "from cirq.contrib.svg import SVGCircuit"
      ],
      "execution_count": null,
      "outputs": []
    }
  ]
}