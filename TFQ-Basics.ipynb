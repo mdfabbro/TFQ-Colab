{
  "nbformat": 4,
  "nbformat_minor": 0,
  "metadata": {
    "colab": {
      "name": "TFQ-Basics.ipynb",
      "provenance": [],
      "collapsed_sections": [],
      "toc_visible": true
    },
    "kernelspec": {
      "name": "python3",
      "display_name": "Python 3"
    },
    "language_info": {
      "name": "python"
    }
  },
  "cells": [
    {
      "cell_type": "markdown",
      "metadata": {
        "id": "Ok9j5XHSX_BQ"
      },
      "source": [
        "[![Open In Colab](https://colab.research.google.com/assets/colab-badge.svg)](https://colab.research.google.com/github/mdfabbro/TFQ-Colab/blob/main/TFQ-Basics.ipynb)\n",
        "\n",
        "\n",
        "# **Basics**\n",
        "### Resume\n",
        "We will create a circuit and then a Controlled PQC layer.\n",
        "\n",
        "## References\n",
        "Based on: \n",
        "https://www.tensorflow.org/quantum/tutorials/hello_many_worlds"
      ]
    },
    {
      "cell_type": "markdown",
      "source": [
        "---\n",
        "\n",
        "## Installation\n",
        "We will install TF 2.5.1 (version required by TFQ) and TF-Quantum. \n",
        "> Check https://www.tensorflow.org/quantum/install for updates.\n"
      ],
      "metadata": {
        "id": "oULBIlfq6rpw"
      }
    },
    {
      "cell_type": "code",
      "metadata": {
        "id": "SyTVAM5rFvo9"
      },
      "source": [
        "%%capture\n",
        "!pip install -q tensorflow==2.5.1"
      ],
      "execution_count": null,
      "outputs": []
    },
    {
      "cell_type": "code",
      "metadata": {
        "id": "VUEavz1kGEmn"
      },
      "source": [
        "%%capture\n",
        "!pip install -q -U tensorflow-quantum"
      ],
      "execution_count": null,
      "outputs": []
    },
    {
      "cell_type": "code",
      "metadata": {
        "id": "e2RjKBo3HEMi"
      },
      "source": [
        "%%capture\n",
        "!pip install -q -U tfq-nightly"
      ],
      "execution_count": null,
      "outputs": []
    },
    {
      "cell_type": "code",
      "metadata": {
        "id": "DOBVqMVwG4nL"
      },
      "source": [
        "!pip show tensorflow\n",
        "!pip show tensorflow-quantum\n",
        "!pip show tfq-nightly"
      ],
      "execution_count": null,
      "outputs": []
    },
    {
      "cell_type": "code",
      "metadata": {
        "colab": {
          "base_uri": "https://localhost:8080/"
        },
        "id": "06pr-PgIHc5o",
        "outputId": "e6b122ec-bd50-4232-bf79-05a090f9836e"
      },
      "source": [
        "import importlib, pkg_resources\n",
        "importlib.reload(pkg_resources)"
      ],
      "execution_count": null,
      "outputs": [
        {
          "output_type": "execute_result",
          "data": {
            "text/plain": [
              "<module 'pkg_resources' from '/usr/local/lib/python3.7/dist-packages/pkg_resources/__init__.py'>"
            ]
          },
          "metadata": {},
          "execution_count": 4
        }
      ]
    },
    {
      "cell_type": "code",
      "metadata": {
        "id": "B6a11puRHj-z"
      },
      "source": [
        "import tensorflow as tf\n",
        "import tensorflow_quantum as tfq\n",
        "import cirq\n",
        "import sympy\n",
        "import numpy as np\n",
        "\n",
        "%matplotlib inline\n",
        "import matplotlib.pyplot as plt\n",
        "from cirq.contrib.svg import SVGCircuit"
      ],
      "execution_count": null,
      "outputs": []
    },
    {
      "cell_type": "markdown",
      "metadata": {
        "id": "m4b-4nToXD2X"
      },
      "source": [
        "\n",
        "\n",
        "---\n",
        "\n",
        "\n",
        "# First circuit"
      ]
    },
    {
      "cell_type": "code",
      "metadata": {
        "id": "Tr0-jRLuIBEz",
        "colab": {
          "base_uri": "https://localhost:8080/",
          "height": 138
        },
        "outputId": "f7b86c53-a83f-48c3-be2c-ba004470f2c5"
      },
      "source": [
        "# Lets create parameters\n",
        "a, b = sympy.symbols('a b')\n",
        "\n",
        "# Create two qubits\n",
        "q0, q1 = cirq.GridQubit.rect(1, 2)\n",
        "\n",
        "# Create a circuit on these qubits using the parameters you created above.\n",
        "circuit = cirq.Circuit(\n",
        "    cirq.rx(a).on(q0),\n",
        "    cirq.ry(b).on(q1), cirq.CNOT(control=q0, target=q1))\n",
        "\n",
        "SVGCircuit(circuit)"
      ],
      "execution_count": null,
      "outputs": [
        {
          "output_type": "stream",
          "name": "stderr",
          "text": [
            "findfont: Font family ['Arial'] not found. Falling back to DejaVu Sans.\n"
          ]
        },
        {
          "output_type": "execute_result",
          "data": {
            "text/plain": [
              "<cirq.contrib.svg.svg.SVGCircuit at 0x7f575c29a6d0>"
            ],
            "image/svg+xml": "<svg xmlns=\"http://www.w3.org/2000/svg\" width=\"234.4567578125\" height=\"100.0\"><line x1=\"34.7588671875\" x2=\"204.4567578125\" y1=\"25.0\" y2=\"25.0\" stroke=\"#1967d2\" stroke-width=\"1\" /><line x1=\"34.7588671875\" x2=\"204.4567578125\" y1=\"75.0\" y2=\"75.0\" stroke=\"#1967d2\" stroke-width=\"1\" /><line x1=\"164.4567578125\" x2=\"164.4567578125\" y1=\"25.0\" y2=\"75.0\" stroke=\"black\" stroke-width=\"3\" /><rect x=\"10.0\" y=\"5.0\" width=\"49.517734375\" height=\"40\" stroke=\"black\" fill=\"white\" stroke-width=\"0\" /><text x=\"34.7588671875\" y=\"25.0\" dominant-baseline=\"middle\" text-anchor=\"middle\" font-size=\"14px\" font-family=\"Arial\">(0, 0): </text><rect x=\"10.0\" y=\"55.0\" width=\"49.517734375\" height=\"40\" stroke=\"black\" fill=\"white\" stroke-width=\"0\" /><text x=\"34.7588671875\" y=\"75.0\" dominant-baseline=\"middle\" text-anchor=\"middle\" font-size=\"14px\" font-family=\"Arial\">(0, 1): </text><rect x=\"79.517734375\" y=\"5.0\" width=\"44.9390234375\" height=\"40\" stroke=\"black\" fill=\"white\" stroke-width=\"1\" /><text x=\"101.98724609375\" y=\"25.0\" dominant-baseline=\"middle\" text-anchor=\"middle\" font-size=\"14px\" font-family=\"Arial\">Rx(a)</text><rect x=\"79.517734375\" y=\"55.0\" width=\"44.9390234375\" height=\"40\" stroke=\"black\" fill=\"white\" stroke-width=\"1\" /><text x=\"101.98724609375\" y=\"75.0\" dominant-baseline=\"middle\" text-anchor=\"middle\" font-size=\"14px\" font-family=\"Arial\">Ry(b)</text><circle cx=\"164.4567578125\" cy=\"25.0\" r=\"10.0\" /><rect x=\"144.4567578125\" y=\"55.0\" width=\"40\" height=\"40\" stroke=\"black\" fill=\"white\" stroke-width=\"1\" /><text x=\"164.4567578125\" y=\"75.0\" dominant-baseline=\"middle\" text-anchor=\"middle\" font-size=\"18px\" font-family=\"Arial\">X</text></svg>"
          },
          "metadata": {},
          "execution_count": 6
        }
      ]
    },
    {
      "cell_type": "markdown",
      "metadata": {
        "id": "NJM2Ggb6YNsy"
      },
      "source": [
        "## Simulation"
      ]
    },
    {
      "cell_type": "code",
      "metadata": {
        "colab": {
          "base_uri": "https://localhost:8080/"
        },
        "id": "XVHWB8pwYaBY",
        "outputId": "1c33bb96-000f-4259-c3fe-431aad0fe2a3"
      },
      "source": [
        "# Calculate a state vector with a=0.5 and b=-0.5.\n",
        "resolver = cirq.ParamResolver({a: 0.5, b: -0.5})\n",
        "output_state_vector = cirq.Simulator().simulate(circuit, resolver).final_state_vector\n",
        "print(output_state_vector) # This are the prob of each state."
      ],
      "execution_count": null,
      "outputs": [
        {
          "output_type": "stream",
          "name": "stdout",
          "text": [
            "[ 0.9387913 +0.j         -0.23971277+0.j          0.        +0.06120872j\n",
            "  0.        -0.23971277j]\n"
          ]
        }
      ]
    },
    {
      "cell_type": "code",
      "metadata": {
        "colab": {
          "base_uri": "https://localhost:8080/"
        },
        "id": "B4OZLjD0ZAT8",
        "outputId": "f0a6de26-4a86-4a46-a939-bdab25361ff0"
      },
      "source": [
        "# Measuring\n",
        "# Example 1: Measuring in Z the qubit 0. \n",
        "# In this case Z = 1 means |0> and Z = -1 is |1>\n",
        "z0 = cirq.Z(q0)\n",
        "qubit_map={q0: 0, q1: 1}\n",
        "print(\"Z0 =\",z0.expectation_from_state_vector(output_state_vector, qubit_map).real)\n",
        "\n",
        "# Example 2: Measuring in 1/2*Z0 + X1\n",
        "z0x1 = cirq.Z(q0) * 0.5 + cirq.X(q1)\n",
        "qubit_map={q0: 0, q1: 1}\n",
        "print(\"1/2*Z0 + X1 =\",z0x1.expectation_from_state_vector(output_state_vector, qubit_map).real)\n"
      ],
      "execution_count": null,
      "outputs": [
        {
          "output_type": "stream",
          "name": "stdout",
          "text": [
            "Z0 = 0.8775825500488281\n",
            "1/2*Z0 + X1 = -0.04063427448272705\n"
          ]
        }
      ]
    },
    {
      "cell_type": "markdown",
      "metadata": {
        "id": "TgINfCQjffr5"
      },
      "source": [
        "## Tensors"
      ]
    },
    {
      "cell_type": "code",
      "metadata": {
        "colab": {
          "base_uri": "https://localhost:8080/"
        },
        "id": "Tg8ScOy9ffEb",
        "outputId": "f396e684-b64e-47fc-a460-b328e2ac5ecb"
      },
      "source": [
        "# Lets convert the circuit into a tensor.\n",
        "circuit_tensor = tfq.convert_to_tensor([circuit])\n",
        "print(circuit_tensor.shape) # (1,)\n",
        "print(circuit_tensor.dtype) # 'string'"
      ],
      "execution_count": null,
      "outputs": [
        {
          "output_type": "stream",
          "name": "stdout",
          "text": [
            "(1,)\n",
            "<dtype: 'string'>\n"
          ]
        }
      ]
    },
    {
      "cell_type": "code",
      "metadata": {
        "colab": {
          "base_uri": "https://localhost:8080/"
        },
        "id": "F5W_tHqEf0Ev",
        "outputId": "3b5d379f-610b-40b0-e7e4-7cd63d995177"
      },
      "source": [
        "# Rank 1 tensor containing 2 Pauli operators.\n",
        "pauli_tensor = tfq.convert_to_tensor([z0, z0x1])\n",
        "pauli_tensor.shape # The shape is 2 as there are two operators: ([2])"
      ],
      "execution_count": null,
      "outputs": [
        {
          "output_type": "execute_result",
          "data": {
            "text/plain": [
              "TensorShape([2])"
            ]
          },
          "metadata": {},
          "execution_count": 10
        }
      ]
    },
    {
      "cell_type": "markdown",
      "metadata": {
        "id": "KFhQ9o4qg3mk"
      },
      "source": [
        "### Batch of values"
      ]
    },
    {
      "cell_type": "code",
      "metadata": {
        "colab": {
          "base_uri": "https://localhost:8080/"
        },
        "id": "28SSJZs_gxyM",
        "outputId": "a2f1e7c5-305c-420a-e0f6-dfff3fd7828c"
      },
      "source": [
        "# Batch of values to replace a and b.\n",
        "# This values will be uniformly distributed.\n",
        "batch_vals = np.array(np.random.uniform(0,2*np.pi, (5,2)),dtype = np.float32)\n",
        "print(batch_vals)"
      ],
      "execution_count": null,
      "outputs": [
        {
          "output_type": "stream",
          "name": "stdout",
          "text": [
            "[[5.341163  1.0670136]\n",
            " [3.692997  5.0539026]\n",
            " [5.599125  2.4432404]\n",
            " [3.050511  4.89876  ]\n",
            " [4.5540233 5.4944158]]\n"
          ]
        }
      ]
    },
    {
      "cell_type": "code",
      "metadata": {
        "colab": {
          "base_uri": "https://localhost:8080/"
        },
        "id": "-vygR0APhP8c",
        "outputId": "60c998e8-f5af-4f8a-fdb6-cedda3d87326"
      },
      "source": [
        "# Option 1\n",
        "cirq_results = []\n",
        "cirq_simulator = cirq.Simulator()\n",
        "\n",
        "for vals in batch_vals:\n",
        "    resolver = cirq.ParamResolver({a: vals[0], b: vals[1]})\n",
        "    final_state_vector = cirq_simulator.simulate(circuit, resolver).final_state_vector\n",
        "    cirq_results.append(\n",
        "        [z0.expectation_from_state_vector(final_state_vector, qubit_map).real])\n",
        "\n",
        "print('cirq batch results: \\n {}'.format(np.array(cirq_results)))"
      ],
      "execution_count": null,
      "outputs": [
        {
          "output_type": "stream",
          "name": "stdout",
          "text": [
            "cirq batch results: \n",
            " [[ 0.58815384]\n",
            " [-0.85178971]\n",
            " [ 0.77501315]\n",
            " [-0.99585497]\n",
            " [-0.15770465]]\n"
          ]
        }
      ]
    },
    {
      "cell_type": "code",
      "metadata": {
        "colab": {
          "base_uri": "https://localhost:8080/"
        },
        "id": "kRyUPq2qho6t",
        "outputId": "3eb43299-7bcc-4860-9068-25bca8e98f1e"
      },
      "source": [
        "# Option 2: Using the right method\n",
        "# We are measuring in Z to get a value in the range [-1,1].\n",
        "tfq.layers.Expectation()(circuit,\n",
        "                         symbol_names=[a, b],\n",
        "                         symbol_values=batch_vals,\n",
        "                         operators=z0)"
      ],
      "execution_count": null,
      "outputs": [
        {
          "output_type": "execute_result",
          "data": {
            "text/plain": [
              "<tf.Tensor: shape=(5, 1), dtype=float32, numpy=\n",
              "array([[ 0.5881554 ],\n",
              "       [-0.85178906],\n",
              "       [ 0.7750144 ],\n",
              "       [-0.995855  ],\n",
              "       [-0.15770268]], dtype=float32)>"
            ]
          },
          "metadata": {},
          "execution_count": 13
        }
      ]
    },
    {
      "cell_type": "markdown",
      "metadata": {
        "id": "FellnvhDvF2Q"
      },
      "source": [
        "## Hybrid"
      ]
    },
    {
      "cell_type": "markdown",
      "metadata": {
        "id": "tbY5WiUBuMMA"
      },
      "source": [
        "We will start creating the circuit that needs to be calibrated and the one that will be controlled.\n",
        "There will be 3 random values of Θx, Θy and Θz used to rated in X, Y and Z a qubit initialized in the state |0>."
      ]
    },
    {
      "cell_type": "code",
      "metadata": {
        "colab": {
          "base_uri": "https://localhost:8080/",
          "height": 71
        },
        "id": "nOJZop7_vIN8",
        "outputId": "708e9baa-2382-45ce-e763-9b4fbf7a648c"
      },
      "source": [
        "# Parameters that the classical NN will feed values into.\n",
        "control_params = sympy.symbols('theta_1 theta_2 theta_3')\n",
        "\n",
        "# Create the parameterized circuit.\n",
        "qubit = cirq.GridQubit(0, 0)\n",
        "model_circuit = cirq.Circuit(\n",
        "    cirq.rz(control_params[0])(qubit),\n",
        "    cirq.ry(control_params[1])(qubit),\n",
        "    cirq.rx(control_params[2])(qubit))\n",
        "\n",
        "SVGCircuit(model_circuit)"
      ],
      "execution_count": null,
      "outputs": [
        {
          "output_type": "execute_result",
          "data": {
            "text/plain": [
              "<cirq.contrib.svg.svg.SVGCircuit at 0x7f5755d7fe10>"
            ],
            "image/svg+xml": "<svg xmlns=\"http://www.w3.org/2000/svg\" width=\"435.74449218750004\" height=\"50.0\"><line x1=\"34.7588671875\" x2=\"405.74449218750004\" y1=\"25.0\" y2=\"25.0\" stroke=\"#1967d2\" stroke-width=\"1\" /><rect x=\"10.0\" y=\"5.0\" width=\"49.517734375\" height=\"40\" stroke=\"black\" fill=\"white\" stroke-width=\"0\" /><text x=\"34.7588671875\" y=\"25.0\" dominant-baseline=\"middle\" text-anchor=\"middle\" font-size=\"14px\" font-family=\"Arial\">(0, 0): </text><rect x=\"79.517734375\" y=\"5.0\" width=\"88.37457031250001\" height=\"40\" stroke=\"black\" fill=\"white\" stroke-width=\"1\" /><text x=\"123.70501953125\" y=\"25.0\" dominant-baseline=\"middle\" text-anchor=\"middle\" font-size=\"14px\" font-family=\"Arial\">Rz(theta_1)</text><rect x=\"187.89230468750003\" y=\"5.0\" width=\"88.54109375\" height=\"40\" stroke=\"black\" fill=\"white\" stroke-width=\"1\" /><text x=\"232.16285156250004\" y=\"25.0\" dominant-baseline=\"middle\" text-anchor=\"middle\" font-size=\"14px\" font-family=\"Arial\">Ry(theta_2)</text><rect x=\"296.43339843750005\" y=\"5.0\" width=\"89.31109375000001\" height=\"40\" stroke=\"black\" fill=\"white\" stroke-width=\"1\" /><text x=\"341.0889453125001\" y=\"25.0\" dominant-baseline=\"middle\" text-anchor=\"middle\" font-size=\"14px\" font-family=\"Arial\">Rx(theta_3)</text></svg>"
          },
          "metadata": {},
          "execution_count": 14
        }
      ]
    },
    {
      "cell_type": "markdown",
      "metadata": {
        "id": "rrL4tpFfvT93"
      },
      "source": [
        "Lets now create the neural network. That will be used to control 3 gates, so\n",
        "we need 3 outputs and the inputs will be '0' or '1' to set the final output in |0> or |1>"
      ]
    },
    {
      "cell_type": "code",
      "metadata": {
        "id": "4yFBTWPWvY_2"
      },
      "source": [
        "# The classical neural network layers.\n",
        "controller = tf.keras.Sequential([\n",
        "    tf.keras.layers.Dense(10, activation='elu'),\n",
        "    tf.keras.layers.Dense(3)\n",
        "])"
      ],
      "execution_count": null,
      "outputs": []
    },
    {
      "cell_type": "code",
      "metadata": {
        "colab": {
          "base_uri": "https://localhost:8080/"
        },
        "id": "k5BSHxJzvhPv",
        "outputId": "92167f21-4c29-43e8-b46a-c796b35546e2"
      },
      "source": [
        "# Lets check that it is initialized with random values.\n",
        "# Lets send '0' and '1' as control signal and see the outputs.\n",
        "controller(tf.constant([[0.0],[1.0]])).numpy()"
      ],
      "execution_count": null,
      "outputs": [
        {
          "output_type": "execute_result",
          "data": {
            "text/plain": [
              "array([[ 0.        ,  0.        ,  0.        ],\n",
              "       [-0.64121115,  0.4463898 ,  0.16676027]], dtype=float32)"
            ]
          },
          "metadata": {},
          "execution_count": 26
        }
      ]
    },
    {
      "cell_type": "code",
      "metadata": {
        "id": "CqnZzg2UwACk"
      },
      "source": [
        "# This input is the simulated miscalibration that the model will learn to correct.\n",
        "# So the it is the result of applying the first 3 gates and it is the input of\n",
        "# the next 3 inputs.\n",
        "circuits_input = tf.keras.Input(shape=(),\n",
        "                                # The circuit-tensor has dtype 'tf.string'\n",
        "                                dtype=tf.string,\n",
        "                                name='circuits_input')\n",
        "\n",
        "# Commands will be either '0' or '1', specifying the state to set the qubit to.\n",
        "commands_input = tf.keras.Input(shape=(1,),\n",
        "                                dtype=tf.dtypes.float32,\n",
        "                                name='commands_input')"
      ],
      "execution_count": null,
      "outputs": []
    },
    {
      "cell_type": "code",
      "metadata": {
        "colab": {
          "base_uri": "https://localhost:8080/"
        },
        "id": "gBKg4hOcwKoE",
        "outputId": "7b404824-382f-4be0-b764-c4d163a994d6"
      },
      "source": [
        "# The commands_input is the input of out neural network.\n",
        "dense_2 = controller(commands_input)\n",
        "\n",
        "# LAYER: Controlled Parametrized Quantum Circuit \n",
        "# TFQ layer for classically controlled circuits.\n",
        "expectation_layer = tfq.layers.ControlledPQC(model_circuit,\n",
        "                                             # Observe Z\n",
        "                                             operators = cirq.Z(qubit))\n",
        "\n",
        "# This is not the case, but we can replace the circuits_input by actually\n",
        "# a circuit.\n",
        "expectation = expectation_layer([circuits_input, dense_2])"
      ],
      "execution_count": null,
      "outputs": [
        {
          "output_type": "stream",
          "name": "stdout",
          "text": [
            "WARNING:tensorflow:From /usr/local/lib/python3.7/dist-packages/tensorflow/python/ops/array_ops.py:5049: calling gather (from tensorflow.python.ops.array_ops) with validate_indices is deprecated and will be removed in a future version.\n",
            "Instructions for updating:\n",
            "The `validate_indices` argument has no effect. Indices are always validated on CPU and never validated on GPU.\n"
          ]
        }
      ]
    },
    {
      "cell_type": "code",
      "metadata": {
        "id": "xA5MSYbjwg-v"
      },
      "source": [
        "# The full Keras model is built from our layers.\n",
        "model = tf.keras.Model(inputs=[circuits_input, commands_input],\n",
        "                       outputs=expectation)"
      ],
      "execution_count": null,
      "outputs": []
    },
    {
      "cell_type": "code",
      "metadata": {
        "colab": {
          "base_uri": "https://localhost:8080/",
          "height": 232
        },
        "id": "jSUnJbnBwjkP",
        "outputId": "8b3cb895-f521-4ff7-a68e-5f86c91e0d0a"
      },
      "source": [
        "tf.keras.utils.plot_model(model, show_shapes=True, dpi=70)"
      ],
      "execution_count": null,
      "outputs": [
        {
          "output_type": "execute_result",
          "data": {
            "image/png": "[encoded data removed]",
            "text/plain": [
              "<IPython.core.display.Image object>"
            ]
          },
          "metadata": {},
          "execution_count": 30
        }
      ]
    },
    {
      "cell_type": "markdown",
      "metadata": {
        "id": "zBdaKYn9wu2Z"
      },
      "source": [
        "### Dataset\n",
        "We will create the dataset. In this case, it is super simple, we want a '0'->1 and '1'->-1."
      ]
    },
    {
      "cell_type": "code",
      "metadata": {
        "id": "bcrWGiEjwxHd"
      },
      "source": [
        "# The command input values to the classical NN.\n",
        "commands = np.array([[0], [1]], dtype=np.float32)\n",
        "# The desired Z expectation value at output of quantum circuit.\n",
        "expected_outputs = np.array([[1], [-1]], dtype=np.float32)"
      ],
      "execution_count": null,
      "outputs": []
    },
    {
      "cell_type": "code",
      "metadata": {
        "id": "WPhEDbOcw-JW"
      },
      "source": [
        "# This is the circuit that will be put the qubit in a state that needs to be \n",
        "# callibrated.\n",
        "random_rotations = np.random.uniform(0, 2 * np.pi, 3)\n",
        "noisy_preparation = cirq.Circuit(\n",
        "  cirq.rx(random_rotations[0])(qubit),\n",
        "  cirq.ry(random_rotations[1])(qubit),\n",
        "  cirq.rz(random_rotations[2])(qubit)\n",
        ")\n",
        "# Make two copied of this circuit\n",
        "# NOTE: We need two copies are there are two commands and in both cases the\n",
        "# inputs were the same.\n",
        "datapoint_circuits = tfq.convert_to_tensor([noisy_preparation] * 2)  "
      ],
      "execution_count": null,
      "outputs": []
    },
    {
      "cell_type": "code",
      "metadata": {
        "colab": {
          "base_uri": "https://localhost:8080/"
        },
        "id": "ieh3e4F9xyiC",
        "outputId": "669f28b7-851c-40a5-fe42-a30e467e2c83"
      },
      "source": [
        "# We have two copies of the circuit. It should be shape 2!\n",
        "print(\"Shape of datapoint_circuit = \", datapoint_circuits.shape)\n",
        "print(\"Shape of commands = \", commands.shape)"
      ],
      "execution_count": null,
      "outputs": [
        {
          "output_type": "stream",
          "name": "stdout",
          "text": [
            "Shape of datapoint_circuit =  (2,)\n",
            "Shape of commands =  (2, 1)\n"
          ]
        }
      ]
    },
    {
      "cell_type": "markdown",
      "metadata": {
        "id": "20PMEoCpx_Tc"
      },
      "source": [
        "### Training"
      ]
    },
    {
      "cell_type": "code",
      "metadata": {
        "colab": {
          "base_uri": "https://localhost:8080/"
        },
        "id": "pNbuVvdQx6nE",
        "outputId": "87a6ba1b-eedc-4c3d-e555-7f303729ba73"
      },
      "source": [
        "model([datapoint_circuits, commands]).numpy()"
      ],
      "execution_count": null,
      "outputs": [
        {
          "output_type": "execute_result",
          "data": {
            "text/plain": [
              "array([[-0.9099674],\n",
              "       [-0.9018942]], dtype=float32)"
            ]
          },
          "metadata": {},
          "execution_count": 92
        }
      ]
    },
    {
      "cell_type": "code",
      "metadata": {
        "id": "EtZKouYeyA2P"
      },
      "source": [
        "optimizer = tf.keras.optimizers.Adam(learning_rate=0.05)\n",
        "loss = tf.keras.losses.MeanSquaredError()\n",
        "model.compile(optimizer=optimizer, loss=loss)\n",
        "history = model.fit(x=[datapoint_circuits, commands],\n",
        "                    y=expected_outputs,\n",
        "                    epochs=30,\n",
        "                    verbose=0)"
      ],
      "execution_count": null,
      "outputs": []
    },
    {
      "cell_type": "code",
      "metadata": {
        "colab": {
          "base_uri": "https://localhost:8080/",
          "height": 295
        },
        "id": "AxOgxEy2yEpb",
        "outputId": "2fdedb45-0dcf-41e6-a402-d74237723666"
      },
      "source": [
        "plt.plot(history.history['loss'])\n",
        "plt.title(\"Learning to Control a Qubit\")\n",
        "plt.xlabel(\"Iterations\")\n",
        "plt.ylabel(\"Error in Control\")\n",
        "plt.show()"
      ],
      "execution_count": null,
      "outputs": [
        {
          "output_type": "display_data",
          "data": {
            "image/png": "[encoded data removed]",
            "text/plain": [
              "<Figure size 432x288 with 1 Axes>"
            ]
          },
          "metadata": {
            "needs_background": "light"
          }
        }
      ]
    },
    {
      "cell_type": "markdown",
      "metadata": {
        "id": "TQkkIrbmBOBc"
      },
      "source": [
        "\n",
        "\n",
        "---\n",
        "\n",
        "\n",
        "# Second circuit\n",
        "The idea is to do the same but now with a circuit that maps +Z (|0>) and -X (|->)."
      ]
    },
    {
      "cell_type": "code",
      "metadata": {
        "id": "2oe4mBVTBgSt"
      },
      "source": [
        "# Define inputs.\n",
        "commands_input = tf.keras.layers.Input(shape=(1),\n",
        "                                       dtype=tf.dtypes.float32,\n",
        "                                       name='commands_input')\n",
        "circuits_input = tf.keras.Input(shape=(),\n",
        "                                # The circuit-tensor has dtype `tf.string` \n",
        "                                dtype=tf.dtypes.string,\n",
        "                                name='circuits_input')\n",
        "operators_input = tf.keras.Input(shape=(1,),\n",
        "                                 dtype=tf.dtypes.string,\n",
        "                                 name='operators_input')"
      ],
      "execution_count": null,
      "outputs": []
    },
    {
      "cell_type": "code",
      "metadata": {
        "id": "1p_n1mXjBn3X"
      },
      "source": [
        "# Define classical NN.\n",
        "controller = tf.keras.Sequential([\n",
        "    tf.keras.layers.Dense(10, activation='elu'),\n",
        "    tf.keras.layers.Dense(3)\n",
        "])"
      ],
      "execution_count": null,
      "outputs": []
    },
    {
      "cell_type": "code",
      "metadata": {
        "id": "CnO7Ze39BvVL"
      },
      "source": [
        "dense_2 = controller(commands_input)\n",
        "\n",
        "# Since you aren't using a PQC or ControlledPQC you must append\n",
        "# your model circuit onto the datapoint circuit tensor manually.\n",
        "full_circuit = tfq.layers.AddCircuit()(circuits_input, append=model_circuit)\n",
        "expectation_output = tfq.layers.Expectation()(full_circuit,\n",
        "                                              symbol_names=control_params,\n",
        "                                              symbol_values=dense_2,\n",
        "                                              operators=operators_input)\n",
        "\n",
        "# Contruct your Keras model.\n",
        "two_axis_control_model = tf.keras.Model(\n",
        "    inputs=[circuits_input, commands_input, operators_input],\n",
        "    outputs=[expectation_output])"
      ],
      "execution_count": null,
      "outputs": []
    },
    {
      "cell_type": "code",
      "metadata": {
        "id": "iIDP_GLrBzbT"
      },
      "source": [
        "# The operators to measure, for each command.\n",
        "operator_data = tfq.convert_to_tensor([[cirq.X(qubit)], [cirq.Z(qubit)]])\n",
        "\n",
        "# The command input values to the classical NN.\n",
        "commands = np.array([[0], [1]], dtype=np.float32)\n",
        "\n",
        "# The desired expectation value at output of quantum circuit.\n",
        "expected_outputs = np.array([[1], [-1]], dtype=np.float32)"
      ],
      "execution_count": null,
      "outputs": []
    },
    {
      "cell_type": "code",
      "metadata": {
        "colab": {
          "base_uri": "https://localhost:8080/"
        },
        "id": "0AxuI-UfB_QH",
        "outputId": "bc7c81a5-4ad5-4ab8-c06c-4e3e29394745"
      },
      "source": [
        "optimizer = tf.keras.optimizers.Adam(learning_rate=0.05)\n",
        "loss = tf.keras.losses.MeanSquaredError()\n",
        "\n",
        "two_axis_control_model.compile(optimizer=optimizer, loss=loss)\n",
        "\n",
        "history = two_axis_control_model.fit(\n",
        "    x=[datapoint_circuits, commands, operator_data],\n",
        "    y=expected_outputs,\n",
        "    epochs=30,\n",
        "    verbose=1)"
      ],
      "execution_count": null,
      "outputs": [
        {
          "output_type": "stream",
          "name": "stdout",
          "text": [
            "Epoch 1/30\n",
            "1/1 [==============================] - 1s 652ms/step - loss: 0.1766\n",
            "Epoch 2/30\n",
            "1/1 [==============================] - 0s 8ms/step - loss: 0.0402\n",
            "Epoch 3/30\n",
            "1/1 [==============================] - 0s 7ms/step - loss: 0.0196\n",
            "Epoch 4/30\n",
            "1/1 [==============================] - 0s 6ms/step - loss: 0.0301\n",
            "Epoch 5/30\n",
            "1/1 [==============================] - 0s 5ms/step - loss: 0.0345\n",
            "Epoch 6/30\n",
            "1/1 [==============================] - 0s 6ms/step - loss: 0.0167\n",
            "Epoch 7/30\n",
            "1/1 [==============================] - 0s 8ms/step - loss: 0.0053\n",
            "Epoch 8/30\n",
            "1/1 [==============================] - 0s 7ms/step - loss: 0.0019\n",
            "Epoch 9/30\n",
            "1/1 [==============================] - 0s 18ms/step - loss: 0.0014\n",
            "Epoch 10/30\n",
            "1/1 [==============================] - 0s 8ms/step - loss: 0.0024\n",
            "Epoch 11/30\n",
            "1/1 [==============================] - 0s 11ms/step - loss: 0.0039\n",
            "Epoch 12/30\n",
            "1/1 [==============================] - 0s 7ms/step - loss: 0.0046\n",
            "Epoch 13/30\n",
            "1/1 [==============================] - 0s 8ms/step - loss: 0.0040\n",
            "Epoch 14/30\n",
            "1/1 [==============================] - 0s 7ms/step - loss: 0.0034\n",
            "Epoch 15/30\n",
            "1/1 [==============================] - 0s 11ms/step - loss: 0.0039\n",
            "Epoch 16/30\n",
            "1/1 [==============================] - 0s 8ms/step - loss: 0.0049\n",
            "Epoch 17/30\n",
            "1/1 [==============================] - 0s 7ms/step - loss: 0.0051\n",
            "Epoch 18/30\n",
            "1/1 [==============================] - 0s 10ms/step - loss: 0.0040\n",
            "Epoch 19/30\n",
            "1/1 [==============================] - 0s 11ms/step - loss: 0.0026\n",
            "Epoch 20/30\n",
            "1/1 [==============================] - 0s 7ms/step - loss: 0.0014\n",
            "Epoch 21/30\n",
            "1/1 [==============================] - 0s 7ms/step - loss: 6.1558e-04\n",
            "Epoch 22/30\n",
            "1/1 [==============================] - 0s 8ms/step - loss: 2.5790e-04\n",
            "Epoch 23/30\n",
            "1/1 [==============================] - 0s 8ms/step - loss: 1.1671e-04\n",
            "Epoch 24/30\n",
            "1/1 [==============================] - 0s 7ms/step - loss: 7.4611e-05\n",
            "Epoch 25/30\n",
            "1/1 [==============================] - 0s 6ms/step - loss: 7.9585e-05\n",
            "Epoch 26/30\n",
            "1/1 [==============================] - 0s 6ms/step - loss: 1.1950e-04\n",
            "Epoch 27/30\n",
            "1/1 [==============================] - 0s 7ms/step - loss: 1.9660e-04\n",
            "Epoch 28/30\n",
            "1/1 [==============================] - 0s 7ms/step - loss: 3.1001e-04\n",
            "Epoch 29/30\n",
            "1/1 [==============================] - 0s 8ms/step - loss: 4.4595e-04\n",
            "Epoch 30/30\n",
            "1/1 [==============================] - 0s 9ms/step - loss: 5.7671e-04\n"
          ]
        }
      ]
    },
    {
      "cell_type": "code",
      "metadata": {
        "colab": {
          "base_uri": "https://localhost:8080/",
          "height": 295
        },
        "id": "IwrD93d9CP1k",
        "outputId": "bb3c2cd6-6f51-4900-d2ce-97913fb200b9"
      },
      "source": [
        "plt.plot(history.history['loss'])\n",
        "plt.title(\"Learning to Control a Qubit\")\n",
        "plt.xlabel(\"Iterations\")\n",
        "plt.ylabel(\"Error in Control\")\n",
        "plt.show()"
      ],
      "execution_count": null,
      "outputs": [
        {
          "output_type": "display_data",
          "data": {
            "image/png": "[encoded data removed]",
            "text/plain": [
              "<Figure size 432x288 with 1 Axes>"
            ]
          },
          "metadata": {
            "needs_background": "light"
          }
        }
      ]
    },
    {
      "cell_type": "code",
      "metadata": {
        "colab": {
          "base_uri": "https://localhost:8080/"
        },
        "id": "HUK-KSlmCVEh",
        "outputId": "86df1483-9219-4918-ff52-ca967a3688cb"
      },
      "source": [
        "controller.predict(np.array([0,1]))"
      ],
      "execution_count": null,
      "outputs": [
        {
          "output_type": "execute_result",
          "data": {
            "text/plain": [
              "array([[-0.82750064,  0.285445  ,  0.21234037],\n",
              "       [-0.24714042,  1.6370709 , -0.58882546]], dtype=float32)"
            ]
          },
          "metadata": {},
          "execution_count": 42
        }
      ]
    }
  ]
}