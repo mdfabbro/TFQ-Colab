{
  "nbformat": 4,
  "nbformat_minor": 0,
  "metadata": {
    "colab": {
      "name": "TFQ-ControlledPQC.ipynb",
      "provenance": [],
      "collapsed_sections": [],
      "toc_visible": true
    },
    "kernelspec": {
      "name": "python3",
      "display_name": "Python 3"
    },
    "language_info": {
      "name": "python"
    }
  },
  "cells": [
    {
      "cell_type": "markdown",
      "metadata": {
        "id": "Ok9j5XHSX_BQ"
      },
      "source": [
        "# **Controlled Parametrized Quantum Circuit**\n",
        "### Resume: \n",
        "Example using a controlledPQC\n",
        "\n",
        "## References\n",
        "https://www.tensorflow.org/quantum/api_docs/python/tfq/layers/ControlledPQC\n",
        "\n",
        "## Other examples\n",
        "There is another example in the 'Hello, many worlds' or the file TFQ-Basics."
      ]
    },
    {
      "cell_type": "markdown",
      "metadata": {
        "id": "vBsaC9G45wzX"
      },
      "source": [
        "\n",
        "\n",
        "---\n",
        "\n",
        "## Installation"
      ]
    },
    {
      "cell_type": "code",
      "metadata": {
        "id": "SyTVAM5rFvo9"
      },
      "source": [
        "%%capture\n",
        "!pip install -q tensorflow==2.5.1\n",
        "!pip install -q -U tensorflow-quantum\n",
        "!pip install -q -U tfq-nightly\n",
        "import importlib, pkg_resources\n",
        "importlib.reload(pkg_resources)"
      ],
      "execution_count": null,
      "outputs": []
    },
    {
      "cell_type": "code",
      "metadata": {
        "id": "DOBVqMVwG4nL",
        "colab": {
          "base_uri": "https://localhost:8080/"
        },
        "outputId": "28e75bc8-3fe3-4126-a5a2-e0238a7c0add"
      },
      "source": [
        "!pip show tensorflow\n",
        "!pip show tensorflow-quantum\n",
        "!pip show tfq-nightly"
      ],
      "execution_count": null,
      "outputs": [
        {
          "output_type": "stream",
          "name": "stdout",
          "text": [
            "Name: tensorflow\n",
            "Version: 2.5.1\n",
            "Summary: TensorFlow is an open source machine learning framework for everyone.\n",
            "Home-page: https://www.tensorflow.org/\n",
            "Author: Google Inc.\n",
            "Author-email: packages@tensorflow.org\n",
            "License: Apache 2.0\n",
            "Location: /usr/local/lib/python3.7/dist-packages\n",
            "Requires: keras-nightly, google-pasta, astunparse, tensorflow-estimator, gast, tensorboard, keras-preprocessing, typing-extensions, opt-einsum, grpcio, termcolor, flatbuffers, wheel, absl-py, numpy, h5py, six, wrapt, protobuf\n",
            "Required-by: kapre\n",
            "Name: tensorflow-quantum\n",
            "Version: 0.5.1\n",
            "Summary: TensorFlow Quantum is a library for hybrid quantum-classical machine learning.\n",
            "Home-page: https://github.com/tensorflow/quantum/\n",
            "Author: Google Inc.\n",
            "Author-email: no-reply@google.com\n",
            "License: Apache 2.0\n",
            "Location: /usr/local/lib/python3.7/dist-packages\n",
            "Requires: google-auth, protobuf, sympy, cirq, google-api-core, googleapis-common-protos\n",
            "Required-by: \n",
            "Name: tfq-nightly\n",
            "Version: 0.6.0.dev20210918\n",
            "Summary: TensorFlow Quantum is a library for hybrid quantum-classical machine learning.\n",
            "Home-page: https://github.com/tensorflow/quantum/\n",
            "Author: Google Inc.\n",
            "Author-email: no-reply@google.com\n",
            "License: Apache 2.0\n",
            "Location: /usr/local/lib/python3.7/dist-packages\n",
            "Requires: google-api-core, cirq, sympy, google-auth, googleapis-common-protos, protobuf\n",
            "Required-by: \n"
          ]
        }
      ]
    },
    {
      "cell_type": "code",
      "metadata": {
        "id": "B6a11puRHj-z"
      },
      "source": [
        "import tensorflow as tf\n",
        "import tensorflow_quantum as tfq\n",
        "import cirq\n",
        "import sympy\n",
        "import numpy as np\n",
        "\n",
        "%matplotlib inline\n",
        "import matplotlib.pyplot as plt\n",
        "from cirq.contrib.svg import SVGCircuit"
      ],
      "execution_count": null,
      "outputs": []
    },
    {
      "cell_type": "markdown",
      "metadata": {
        "id": "3WJ3dAex53t9"
      },
      "source": [
        "\n",
        "\n",
        "---\n",
        "\n",
        "## Circuit using ControlledPQC"
      ]
    },
    {
      "cell_type": "code",
      "metadata": {
        "colab": {
          "base_uri": "https://localhost:8080/",
          "height": 88
        },
        "id": "94AXoh6Q53Oc",
        "outputId": "d861fee0-d82c-4d45-a344-4a3c58531774"
      },
      "source": [
        "# Just one bit\n",
        "bit = cirq.GridQubit(0, 0)  \n",
        "# Lets create the circuit\n",
        "\n",
        "model = cirq.Circuit(\n",
        "    cirq.X(bit) ** sympy.Symbol('alpha'),\n",
        "    cirq.Z(bit) ** sympy.Symbol('beta')\n",
        ")\n",
        "\n",
        "SVGCircuit(model)"
      ],
      "execution_count": null,
      "outputs": [
        {
          "output_type": "stream",
          "name": "stderr",
          "text": [
            "findfont: Font family ['Arial'] not found. Falling back to DejaVu Sans.\n"
          ]
        },
        {
          "output_type": "execute_result",
          "data": {
            "text/plain": [
              "<cirq.contrib.svg.svg.SVGCircuit at 0x7f5d63cec710>"
            ],
            "image/svg+xml": "<svg xmlns=\"http://www.w3.org/2000/svg\" width=\"278.9471484375\" height=\"50.0\"><line x1=\"34.7588671875\" x2=\"248.9471484375\" y1=\"25.0\" y2=\"25.0\" stroke=\"#1967d2\" stroke-width=\"1\" /><rect x=\"10.0\" y=\"5.0\" width=\"49.517734375\" height=\"40\" stroke=\"black\" fill=\"white\" stroke-width=\"0\" /><text x=\"34.7588671875\" y=\"25.0\" dominant-baseline=\"middle\" text-anchor=\"middle\" font-size=\"14px\" font-family=\"Arial\">(0, 0): </text><rect x=\"79.517734375\" y=\"5.0\" width=\"68.4404296875\" height=\"40\" stroke=\"black\" fill=\"white\" stroke-width=\"1\" /><text x=\"113.73794921875\" y=\"25.0\" dominant-baseline=\"middle\" text-anchor=\"middle\" font-size=\"14px\" font-family=\"Arial\">X^alpha</text><rect x=\"167.95816406250003\" y=\"5.0\" width=\"60.988984375\" height=\"40\" stroke=\"black\" fill=\"white\" stroke-width=\"1\" /><text x=\"198.45265625000002\" y=\"25.0\" dominant-baseline=\"middle\" text-anchor=\"middle\" font-size=\"14px\" font-family=\"Arial\">Z^beta</text></svg>"
          },
          "metadata": {},
          "execution_count": 4
        }
      ]
    },
    {
      "cell_type": "code",
      "metadata": {
        "colab": {
          "base_uri": "https://localhost:8080/"
        },
        "id": "x4ZqZIhi6KVX",
        "outputId": "5efee611-4575-449b-e5b6-1b417a3ed688"
      },
      "source": [
        "# Lets create the ControlledPQC layer.\n",
        "outputs = tfq.layers.ControlledPQC(\n",
        "    model,        # Circuit to use\n",
        "    cirq.Z(bit))  # operator to apply to measure. In this case we measure in Z.\n",
        "\n",
        "# This is the input quantum circuit.\n",
        "quantum_data = tfq.convert_to_tensor([\n",
        "    cirq.Circuit(),\n",
        "    cirq.Circuit(cirq.X(bit))\n",
        "])\n",
        "# This is are the values of the parameters to reaplace (alpha and beta).\n",
        "model_params = tf.convert_to_tensor([[0.5, 0.5], [0.25, 0.75]])\n",
        "\n",
        "# The ControlledPQC has as input [(None,),(None,2)]:\n",
        "#   - The (None,): It is the qubits inputs.\n",
        "#   - The (None,2): The parameter to control. In this case, alpha and beta.\n",
        "res = outputs([quantum_data, model_params])\n",
        "print(res)"
      ],
      "execution_count": null,
      "outputs": [
        {
          "output_type": "stream",
          "name": "stdout",
          "text": [
            "tf.Tensor(\n",
            "[[ 0.       ]\n",
            " [-0.7071067]], shape=(2, 1), dtype=float32)\n"
          ]
        }
      ]
    },
    {
      "cell_type": "code",
      "metadata": {
        "colab": {
          "base_uri": "https://localhost:8080/"
        },
        "id": "rUgghQ5HjdzU",
        "outputId": "2a37fe89-9bb7-42dc-f575-ec21d60b4364"
      },
      "source": [
        "outputs = tfq.layers.ControlledPQC(\n",
        "    model,\n",
        "    [cirq.Z(bit), cirq.X(bit), cirq.Y(bit)],  # Now we measure in the 3 axis\n",
        "    repetitions=5000)                         # To average\n",
        "\n",
        "quantum_data = tfq.convert_to_tensor([\n",
        "    cirq.Circuit(),\n",
        "    cirq.Circuit(cirq.X(bit))\n",
        "])\n",
        "\n",
        "model_params = tf.convert_to_tensor([[0.5, 0.5], [0.25, 0.75]])\n",
        "\n",
        "with tf.GradientTape() as g:\n",
        "    g.watch(model_params)\n",
        "    res = outputs([quantum_data, model_params])\n",
        "\n",
        "print(\"Res = \", res)\n",
        "\n",
        "# We calculate the gradient\n",
        "grads = g.gradient(res, model_params)\n",
        "print(\"Gradients = \",grads)"
      ],
      "execution_count": null,
      "outputs": [
        {
          "output_type": "stream",
          "name": "stdout",
          "text": [
            "Res =  tf.Tensor(\n",
            "[[ 0.0224  1.     -0.0112]\n",
            " [-0.7044 -0.494  -0.4872]], shape=(2, 3), dtype=float32)\n",
            "Gradients =  tf.Tensor(\n",
            "[[-3.1145751   3.1409645 ]\n",
            " [-0.95441604  0.04021227]], shape=(2, 2), dtype=float32)\n"
          ]
        }
      ]
    }
  ]
}